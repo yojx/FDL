{
 "cells": [
  {
   "cell_type": "markdown",
   "id": "9a01a8d8-ad4f-4f5d-b40a-26fe38315aac",
   "metadata": {},
   "source": [
    "# Supervised Anomaly Detection Using MLP"
   ]
  },
  {
   "cell_type": "markdown",
   "id": "3c3c6508-1b22-4e34-9efb-9620252380a7",
   "metadata": {},
   "source": [
    "Using the dataset https://www.kaggle.com/datasets/what0919/intrusion-detection/code, the objective is to build a network intrusion detection system to detect the class of attacks (multinomial classification) in the Network. Here's the description of each feature:"
   ]
  },
  {
   "cell_type": "markdown",
   "id": "7d857e45-e61b-4652-860d-3e26858a7c2f",
   "metadata": {},
   "source": [
    "Column| Description| Feature Type\n",
    "------------|--------------------|----------------------\n",
    "Duration | Length of time duration of the connection | Numerical\n",
    "Protocol_type | Protocol used in the connection | Categorical\n",
    "Service | Destination network service used | Categorical\n",
    "Flag | Status of the connection | Categorical\n",
    "Src_bytes | Number of data bytes transferred from source to destination  | Numerical\n",
    "Dst_bytes | Number of data bytes transferred from destination to source | Numerical\n",
    "Land | (1: source, destination IP addresses and port numbers are equal, 0: o/w) | Categorical\n",
    "Wrong_fragment | Total number of wrong fragments in this connection | Numerical\n",
    "Urgent | Number of urgent packets with urgent bits | Numerical\n",
    "Hot | Number of 'hot' indicators in the content such as: entering a system directory, creating programs and executing programs | Numerical\n",
    "Num_failed _logins | Count of failed login attempts | Numerical\n",
    "Login Status | (1: success, 0: failed) | Categorical\n",
    "Num_compromised | Number of 'compromised' conditions | Numerical\n",
    "Root_shell | (1: root shell is obtained, 0: o/w) | Categorical\n",
    "Su_attempted | (1: su root command is attempted, 0: o/w) | Categorical\n",
    "Num_root | Number of 'root' accesses or number of operations performed as a root in the connection | Numerical\n",
    "Num_file_creations | Number of file creation operations in the connection | Numerical\n",
    "Num_shells | Number of shell prompts | Numerical\n",
    "Num_access_files | Number of operations on access control files | Numerical\n",
    "Is_guest_login | (1 : login is a 'guest' login, 0: o/w) | Categorical\n",
    "Count | Number of connections to the same destination host as the current connection in the past two seconds | Numerical\n",
    "Srv_count | Number of connections to the same service (port number) as the current connection in the past two seconds | Numerical\n",
    "Serror_rate | The percentage of connections that have activated the **flag** s0, s1, s2 or s3, among the connections aggregated in **count** | Numerical\n",
    "Srv_serror_rate | The percentage of connections that have activated the **flag** s0, s1, s2 or s3, among the connections aggregated in **srv_count** | Numerical\n",
    "Rerror_rate | The percentage of connections that have activated the **flag** REJ, among the connections aggregated in **count** | Numerical\n",
    "Srv_rerror_rate | The percentage of connections that have activated the **flag** REJ, among the connections aggregated in **srv_count** | Numerical\n",
    "Same_srv_rate | The percentage of connections that were to the same service, among the connections aggregated in **count** | Numerical\n",
    "Diff_srv_rate | The percentage of connections that were to different services, among the connections aggregated in **count** | Numerical\n",
    "Srv_diff_host_rate | The percentage of connections that were to different destination machines among the connections aggregated in **srv_count** | Numerical\n",
    "Dst_host_count | Number of connections having the same destination host IP address | Numerical\n",
    "Dst_host_srv_count | Number of connections having the same port number | Numerical\n",
    "Dst_host_same _srv_rate | The percentage of connections that were to the same service, among the connections aggregated in **dst_host_count** | Numerical\n",
    "Dst_host_diff_srv_rate | The percentage of connections that were to different services, among the connections aggregated in **dst_host_count** | Numerical\n",
    "Dst_host_same _src_port_rate | The percentage of connections that were to the same source port, among the connections aggregated in **dst_host_srv_count** | Numerical\n",
    "Dst_host_srv_diff_host_rate | The percentage of connections that were to different destination machines, among the connections aggregated in **dst_host_srv_count** | Numerical\n",
    "Dst_host_serror_rate | The percentage of connections that have activated the **flag** s0, s1, s2 or s3, among the connections aggregated in **dst_host_count** | Numerical\n",
    "Dst_host_srv_s error_rate | The percent of connections that have activated the **flag** s0, s1, s2 or s3, among the connections aggregated in **dst_host_srv_count** | Numerical\n",
    "Dst_host_rerror_rate | The percentage of connections that have activated the **flag** REJ, among the connections aggregated in **dst_host_count** | Numerical\n",
    "Dst_host_srv_rerror_rate | The percentage of connections that have activated the **flag** REJ, among the connections aggregated in **dst_host_srv_count** | Numerical\n",
    "Attack | (normal or DOS or PROBE or R2L or U2R) | Target\n"
   ]
  },
  {
   "cell_type": "markdown",
   "id": "8bbfd336-b906-4b85-8b05-29a10d73476e",
   "metadata": {},
   "source": [
    "## Setup"
   ]
  },
  {
   "cell_type": "code",
   "execution_count": 129,
   "id": "a7fddf35-ec91-43ec-bc6b-851f2c655d04",
   "metadata": {},
   "outputs": [],
   "source": [
    "import os\n",
    "\n",
    "os.environ[\"KERAS_BACKEND\"] = \"tensorflow\"\n",
    "\n",
    "import tensorflow as tf\n",
    "import pandas as pd\n",
    "import numpy as np\n",
    "import keras\n",
    "from keras.utils import FeatureSpace\n",
    "from sklearn.preprocessing import OneHotEncoder, LabelEncoder\n",
    "from keras.utils import to_categorical\n",
    "import matplotlib.pyplot as plt\n",
    "from tensorflow.keras import regularizers\n",
    "from tensorflow.keras.callbacks import ModelCheckpoint, ReduceLROnPlateau, TensorBoard"
   ]
  },
  {
   "cell_type": "markdown",
   "id": "8a3513cb-ef05-418b-9b20-1dfe2180111d",
   "metadata": {},
   "source": [
    "## Preparing the data"
   ]
  },
  {
   "cell_type": "code",
   "execution_count": 132,
   "id": "a5193b78-f2c1-40c9-9968-a0d2c45f59aa",
   "metadata": {},
   "outputs": [
    {
     "name": "stdout",
     "output_type": "stream",
     "text": [
      "(125973, 41)\n"
     ]
    }
   ],
   "source": [
    "data_path = './data.csv'\n",
    "dataframe = pd.read_csv(data_path)\n",
    "print(dataframe.shape)"
   ]
  },
  {
   "cell_type": "markdown",
   "id": "298e4001-a059-41e0-8f94-1950fa199a84",
   "metadata": {},
   "source": [
    "Here is a preview of a few samples:"
   ]
  },
  {
   "cell_type": "code",
   "execution_count": 135,
   "id": "ace3571c-8b73-455f-bd31-b444c9b3d210",
   "metadata": {},
   "outputs": [
    {
     "data": {
      "text/html": [
       "<div>\n",
       "<style scoped>\n",
       "    .dataframe tbody tr th:only-of-type {\n",
       "        vertical-align: middle;\n",
       "    }\n",
       "\n",
       "    .dataframe tbody tr th {\n",
       "        vertical-align: top;\n",
       "    }\n",
       "\n",
       "    .dataframe thead th {\n",
       "        text-align: right;\n",
       "    }\n",
       "</style>\n",
       "<table border=\"1\" class=\"dataframe\">\n",
       "  <thead>\n",
       "    <tr style=\"text-align: right;\">\n",
       "      <th></th>\n",
       "      <th>duration</th>\n",
       "      <th>protocol_type</th>\n",
       "      <th>service</th>\n",
       "      <th>flag</th>\n",
       "      <th>src_bytes</th>\n",
       "      <th>dst_bytes</th>\n",
       "      <th>land</th>\n",
       "      <th>wrong_fragment</th>\n",
       "      <th>urgent</th>\n",
       "      <th>hot</th>\n",
       "      <th>...</th>\n",
       "      <th>dst_host_srv_count</th>\n",
       "      <th>dst_host_same_srv_rate</th>\n",
       "      <th>dst_host_diff_srv_rate</th>\n",
       "      <th>dst_host_same_src_port_rate</th>\n",
       "      <th>dst_host_srv_diff_host_rate</th>\n",
       "      <th>dst_host_serror_rate</th>\n",
       "      <th>dst_host_srv_serror_rate</th>\n",
       "      <th>dst_host_rerror_rate</th>\n",
       "      <th>dst_host_srv_rerror_rate</th>\n",
       "      <th>xAttack</th>\n",
       "    </tr>\n",
       "  </thead>\n",
       "  <tbody>\n",
       "    <tr>\n",
       "      <th>0</th>\n",
       "      <td>0</td>\n",
       "      <td>icmp</td>\n",
       "      <td>20</td>\n",
       "      <td>2</td>\n",
       "      <td>491</td>\n",
       "      <td>0</td>\n",
       "      <td>0</td>\n",
       "      <td>0</td>\n",
       "      <td>0</td>\n",
       "      <td>0</td>\n",
       "      <td>...</td>\n",
       "      <td>25</td>\n",
       "      <td>0.17</td>\n",
       "      <td>0.03</td>\n",
       "      <td>0.17</td>\n",
       "      <td>0.00</td>\n",
       "      <td>0.00</td>\n",
       "      <td>0.00</td>\n",
       "      <td>0.05</td>\n",
       "      <td>0.00</td>\n",
       "      <td>normal</td>\n",
       "    </tr>\n",
       "    <tr>\n",
       "      <th>1</th>\n",
       "      <td>0</td>\n",
       "      <td>udp</td>\n",
       "      <td>45</td>\n",
       "      <td>2</td>\n",
       "      <td>146</td>\n",
       "      <td>0</td>\n",
       "      <td>0</td>\n",
       "      <td>0</td>\n",
       "      <td>0</td>\n",
       "      <td>0</td>\n",
       "      <td>...</td>\n",
       "      <td>1</td>\n",
       "      <td>0.00</td>\n",
       "      <td>0.60</td>\n",
       "      <td>0.88</td>\n",
       "      <td>0.00</td>\n",
       "      <td>0.00</td>\n",
       "      <td>0.00</td>\n",
       "      <td>0.00</td>\n",
       "      <td>0.00</td>\n",
       "      <td>normal</td>\n",
       "    </tr>\n",
       "    <tr>\n",
       "      <th>2</th>\n",
       "      <td>0</td>\n",
       "      <td>icmp</td>\n",
       "      <td>50</td>\n",
       "      <td>4</td>\n",
       "      <td>0</td>\n",
       "      <td>0</td>\n",
       "      <td>0</td>\n",
       "      <td>0</td>\n",
       "      <td>0</td>\n",
       "      <td>0</td>\n",
       "      <td>...</td>\n",
       "      <td>26</td>\n",
       "      <td>0.10</td>\n",
       "      <td>0.05</td>\n",
       "      <td>0.00</td>\n",
       "      <td>0.00</td>\n",
       "      <td>1.00</td>\n",
       "      <td>1.00</td>\n",
       "      <td>0.00</td>\n",
       "      <td>0.00</td>\n",
       "      <td>dos</td>\n",
       "    </tr>\n",
       "    <tr>\n",
       "      <th>3</th>\n",
       "      <td>0</td>\n",
       "      <td>icmp</td>\n",
       "      <td>25</td>\n",
       "      <td>2</td>\n",
       "      <td>232</td>\n",
       "      <td>8153</td>\n",
       "      <td>0</td>\n",
       "      <td>0</td>\n",
       "      <td>0</td>\n",
       "      <td>0</td>\n",
       "      <td>...</td>\n",
       "      <td>255</td>\n",
       "      <td>1.00</td>\n",
       "      <td>0.00</td>\n",
       "      <td>0.03</td>\n",
       "      <td>0.04</td>\n",
       "      <td>0.03</td>\n",
       "      <td>0.01</td>\n",
       "      <td>0.00</td>\n",
       "      <td>0.01</td>\n",
       "      <td>normal</td>\n",
       "    </tr>\n",
       "    <tr>\n",
       "      <th>4</th>\n",
       "      <td>0</td>\n",
       "      <td>icmp</td>\n",
       "      <td>25</td>\n",
       "      <td>2</td>\n",
       "      <td>199</td>\n",
       "      <td>420</td>\n",
       "      <td>0</td>\n",
       "      <td>0</td>\n",
       "      <td>0</td>\n",
       "      <td>0</td>\n",
       "      <td>...</td>\n",
       "      <td>255</td>\n",
       "      <td>1.00</td>\n",
       "      <td>0.00</td>\n",
       "      <td>0.00</td>\n",
       "      <td>0.00</td>\n",
       "      <td>0.00</td>\n",
       "      <td>0.00</td>\n",
       "      <td>0.00</td>\n",
       "      <td>0.00</td>\n",
       "      <td>normal</td>\n",
       "    </tr>\n",
       "  </tbody>\n",
       "</table>\n",
       "<p>5 rows × 41 columns</p>\n",
       "</div>"
      ],
      "text/plain": [
       "   duration protocol_type  service  flag  src_bytes  dst_bytes  land  \\\n",
       "0         0          icmp       20     2        491          0     0   \n",
       "1         0           udp       45     2        146          0     0   \n",
       "2         0          icmp       50     4          0          0     0   \n",
       "3         0          icmp       25     2        232       8153     0   \n",
       "4         0          icmp       25     2        199        420     0   \n",
       "\n",
       "   wrong_fragment  urgent  hot  ...  dst_host_srv_count  \\\n",
       "0               0       0    0  ...                  25   \n",
       "1               0       0    0  ...                   1   \n",
       "2               0       0    0  ...                  26   \n",
       "3               0       0    0  ...                 255   \n",
       "4               0       0    0  ...                 255   \n",
       "\n",
       "   dst_host_same_srv_rate  dst_host_diff_srv_rate  \\\n",
       "0                    0.17                    0.03   \n",
       "1                    0.00                    0.60   \n",
       "2                    0.10                    0.05   \n",
       "3                    1.00                    0.00   \n",
       "4                    1.00                    0.00   \n",
       "\n",
       "   dst_host_same_src_port_rate  dst_host_srv_diff_host_rate  \\\n",
       "0                         0.17                         0.00   \n",
       "1                         0.88                         0.00   \n",
       "2                         0.00                         0.00   \n",
       "3                         0.03                         0.04   \n",
       "4                         0.00                         0.00   \n",
       "\n",
       "   dst_host_serror_rate  dst_host_srv_serror_rate  dst_host_rerror_rate  \\\n",
       "0                  0.00                      0.00                  0.05   \n",
       "1                  0.00                      0.00                  0.00   \n",
       "2                  1.00                      1.00                  0.00   \n",
       "3                  0.03                      0.01                  0.00   \n",
       "4                  0.00                      0.00                  0.00   \n",
       "\n",
       "   dst_host_srv_rerror_rate  xAttack  \n",
       "0                      0.00   normal  \n",
       "1                      0.00   normal  \n",
       "2                      0.00      dos  \n",
       "3                      0.01   normal  \n",
       "4                      0.00   normal  \n",
       "\n",
       "[5 rows x 41 columns]"
      ]
     },
     "execution_count": 135,
     "metadata": {},
     "output_type": "execute_result"
    }
   ],
   "source": [
    "dataframe.head()"
   ]
  },
  {
   "cell_type": "markdown",
   "id": "4e007cb0-1c33-4ec0-8314-5291cc6e8867",
   "metadata": {},
   "source": [
    "Handle imbalanced Data:"
   ]
  },
  {
   "cell_type": "code",
   "execution_count": 138,
   "id": "02214bee-d68b-400f-ac37-7e3560d4c9e6",
   "metadata": {},
   "outputs": [
    {
     "name": "stdout",
     "output_type": "stream",
     "text": [
      "xAttack\n",
      "normal    67343\n",
      "dos       45927\n",
      "probe     11656\n",
      "r2l         995\n",
      "u2r          52\n",
      "Name: count, dtype: int64\n"
     ]
    },
    {
     "data": {
      "image/png": "[encoded data removed]",
      "text/plain": [
       "<Figure size 640x480 with 1 Axes>"
      ]
     },
     "metadata": {},
     "output_type": "display_data"
    }
   ],
   "source": [
    "# plot out the balance of data\n",
    "print(dataframe['xAttack'].value_counts())\n",
    "\n",
    "ax = dataframe['xAttack'].value_counts().plot.bar()\n",
    "ax.set_xlabel(\"Number of Examples\", fontsize=12)\n",
    "ax.set_ylabel(\"Labels\", fontsize=12)\n",
    "plt.show()"
   ]
  },
  {
   "cell_type": "code",
   "execution_count": 140,
   "id": "36c1efb9-3975-490a-84ea-db1ddf8fa33c",
   "metadata": {},
   "outputs": [
    {
     "data": {
      "text/plain": [
       "(67343, 45927, 11656, 995, 52)"
      ]
     },
     "execution_count": 140,
     "metadata": {},
     "output_type": "execute_result"
    }
   ],
   "source": [
    "# separate actual counts\n",
    "normal = dataframe['xAttack'].value_counts()['normal']\n",
    "dos = dataframe['xAttack'].value_counts()['dos']\n",
    "probe = dataframe['xAttack'].value_counts()['probe']\n",
    "r2l = dataframe['xAttack'].value_counts()['r2l']\n",
    "u2r = dataframe['xAttack'].value_counts()['u2r']\n",
    "normal, dos, probe, r2l, u2r"
   ]
  },
  {
   "cell_type": "code",
   "execution_count": 142,
   "id": "7b264587-c9a7-40e7-be24-cf647d894b9d",
   "metadata": {},
   "outputs": [
    {
     "name": "stdout",
     "output_type": "stream",
     "text": [
      "Weight for class 0: 0.37\n",
      "Weight for class 1: 0.55\n",
      "Weight for class 2: 2.16\n",
      "Weight for class 3: 25.32\n"
     ]
    }
   ],
   "source": [
    "# handling the class imbalance\n",
    "total = normal + dos + probe + r2l + u2r\n",
    "weight_for_0 = (1 / normal) * (total) / 5.0\n",
    "weight_for_1 = (1 / dos) * (total) / 5.0\n",
    "weight_for_2 = (1 / probe) * (total) / 5.0\n",
    "weight_for_3 = (1 / r2l) * (total) / 5.0\n",
    "weight_for_4 = (1 / u2r) * (total) / 5.0\n",
    "\n",
    "class_weight = {0: weight_for_0, 1: weight_for_1,\n",
    "                2: weight_for_2, 3: weight_for_3,\n",
    "                4: weight_for_4} #create a dictionary\n",
    "\n",
    "print(\"Weight for class 0: {:.2f}\".format(weight_for_0))\n",
    "print(\"Weight for class 1: {:.2f}\".format(weight_for_1))\n",
    "print(\"Weight for class 2: {:.2f}\".format(weight_for_2))\n",
    "print(\"Weight for class 3: {:.2f}\".format(weight_for_3))"
   ]
  },
  {
   "cell_type": "code",
   "execution_count": 144,
   "id": "242861a2-27af-48d5-b5f4-5fbaa7185046",
   "metadata": {},
   "outputs": [],
   "source": [
    "dataframe['xAttack'] = dataframe['xAttack'].map({'normal':0,'dos':1,'probe':2,'r2l':3,'u2r':4})"
   ]
  },
  {
   "cell_type": "markdown",
   "id": "277e1275-bc42-411b-bda5-bb676acc0963",
   "metadata": {},
   "source": [
    "Train, Validation, Test Split"
   ]
  },
  {
   "cell_type": "code",
   "execution_count": 147,
   "id": "4a03602b-5255-44f0-abee-d494d99ae172",
   "metadata": {},
   "outputs": [
    {
     "name": "stdout",
     "output_type": "stream",
     "text": [
      "(100778, 41)\n",
      "(12597, 41)\n",
      "(12598, 41)\n"
     ]
    }
   ],
   "source": [
    "train_dataframe = dataframe.sample(frac=0.8, random_state=42)\n",
    "dataframe = dataframe.drop(train_dataframe.index)\n",
    "test_dataframe = dataframe.sample(frac=0.5, random_state=42)\n",
    "val_dataframe = dataframe.drop(test_dataframe.index)\n",
    "print(train_dataframe.shape)\n",
    "print(val_dataframe.shape)\n",
    "print(test_dataframe.shape)"
   ]
  },
  {
   "cell_type": "markdown",
   "id": "02bfc5f1-c9ce-45f7-8e8e-15e8c06ed4a8",
   "metadata": {},
   "source": [
    "Generate tf.data.Dataset objects for each dataframe:"
   ]
  },
  {
   "cell_type": "code",
   "execution_count": 150,
   "id": "bd804b1f-31fa-4e06-8258-5316763840b3",
   "metadata": {},
   "outputs": [],
   "source": [
    "def dataframe_to_dataset(dataframe, shuffle=True, batch_size=32):\n",
    "    dataframe = dataframe.copy()\n",
    "    labels = dataframe.pop(\"xAttack\") # target label\n",
    "    encoded_labels = to_categorical(LabelEncoder().fit_transform(labels), num_classes=5)\n",
    "    ds = tf.data.Dataset.from_tensor_slices((dict(dataframe), encoded_labels))\n",
    "    if shuffle:\n",
    "        ds = ds.shuffle(buffer_size=len(dataframe))\n",
    "    ds = ds.batch(batch_size)\n",
    "    return ds\n",
    "\n",
    "batch_size = 32\n",
    "train_ds = dataframe_to_dataset(train_dataframe, batch_size=batch_size)\n",
    "val_ds = dataframe_to_dataset(val_dataframe, batch_size=batch_size)\n",
    "test_ds = dataframe_to_dataset(test_dataframe, shuffle=False, batch_size=batch_size)"
   ]
  },
  {
   "cell_type": "code",
   "execution_count": 152,
   "id": "f1319330-43a3-4952-82e1-77a4ea1626dd",
   "metadata": {},
   "outputs": [
    {
     "name": "stdout",
     "output_type": "stream",
     "text": [
      "labels: tf.Tensor(\n",
      "[[0. 1. 0. 0. 0.]\n",
      " [1. 0. 0. 0. 0.]\n",
      " [0. 0. 1. 0. 0.]\n",
      " [1. 0. 0. 0. 0.]\n",
      " [1. 0. 0. 0. 0.]\n",
      " [1. 0. 0. 0. 0.]\n",
      " [1. 0. 0. 0. 0.]\n",
      " [1. 0. 0. 0. 0.]\n",
      " [1. 0. 0. 0. 0.]\n",
      " [1. 0. 0. 0. 0.]\n",
      " [1. 0. 0. 0. 0.]\n",
      " [1. 0. 0. 0. 0.]\n",
      " [1. 0. 0. 0. 0.]\n",
      " [0. 1. 0. 0. 0.]\n",
      " [0. 1. 0. 0. 0.]\n",
      " [0. 1. 0. 0. 0.]\n",
      " [0. 0. 1. 0. 0.]\n",
      " [0. 1. 0. 0. 0.]\n",
      " [0. 1. 0. 0. 0.]\n",
      " [0. 0. 1. 0. 0.]\n",
      " [0. 1. 0. 0. 0.]\n",
      " [1. 0. 0. 0. 0.]\n",
      " [1. 0. 0. 0. 0.]\n",
      " [1. 0. 0. 0. 0.]\n",
      " [0. 1. 0. 0. 0.]\n",
      " [0. 1. 0. 0. 0.]\n",
      " [1. 0. 0. 0. 0.]\n",
      " [0. 0. 1. 0. 0.]\n",
      " [1. 0. 0. 0. 0.]\n",
      " [1. 0. 0. 0. 0.]\n",
      " [0. 1. 0. 0. 0.]\n",
      " [1. 0. 0. 0. 0.]], shape=(32, 5), dtype=float64)\n"
     ]
    }
   ],
   "source": [
    "for feature_batch, label_batch in train_ds.take(1):\n",
    "  print('labels:', label_batch )"
   ]
  },
  {
   "cell_type": "markdown",
   "id": "cb52da56-4cee-46bd-b92e-006e5f74f27a",
   "metadata": {},
   "source": [
    "## Configuring a FeatureSpace"
   ]
  },
  {
   "cell_type": "code",
   "execution_count": 155,
   "id": "f4ed2ac5-ca38-448a-9b41-9a44765f683d",
   "metadata": {},
   "outputs": [],
   "source": [
    "feature_space = FeatureSpace(\n",
    "    features={\n",
    "        # Categorical features encoded as integers\n",
    "        \"flag\": \"integer_categorical\",\n",
    "        \"land\": \"integer_categorical\",\n",
    "        \"logged_in\": \"integer_categorical\",\n",
    "        \"root_shell\": \"integer_categorical\",\n",
    "        \"su_attempted\": \"integer_categorical\",\n",
    "        \"is_host_login\": \"integer_categorical\",\n",
    "        \"is_guest_login\": \"integer_categorical\",\n",
    "        # Categorical feature encoded as string\n",
    "        \"protocol_type\": \"string_categorical\",\n",
    "        # Numerical features to normalize\n",
    "        \"duration\": \"float_normalized\",\n",
    "        \"service\": \"float_normalized\",\n",
    "        \"src_bytes\": \"float_normalized\",\n",
    "        \"dst_bytes\": \"float_normalized\",\n",
    "        \"wrong_fragment\": \"float_normalized\",\n",
    "        \"urgent\": \"float_normalized\",\n",
    "        \"hot\": \"float_normalized\",\n",
    "        \"num_failed_logins\": \"float_normalized\",\n",
    "        \"num_compromised\": \"float_normalized\",\n",
    "        \"num_root\": \"float_normalized\",\n",
    "        \"num_file_creations\": \"float_normalized\",\n",
    "        \"num_shells\": \"float_normalized\",\n",
    "        \"num_access_files\": \"float_normalized\",\n",
    "        \"count\": \"float_normalized\",\n",
    "        \"srv_count\": \"float_normalized\",\n",
    "        \"dst_host_count\": \"float_normalized\",\n",
    "        \"dst_host_srv_count\": \"float_normalized\",\n",
    "        \"serror_rate\": \"float_normalized\",\n",
    "        \"srv_serror_rate\": \"float_normalized\",\n",
    "        \"rerror_rate\": \"float_normalized\",\n",
    "        \"srv_rerror_rate\": \"float_normalized\",\n",
    "        \"same_srv_rate\": \"float_normalized\",\n",
    "        \"diff_srv_rate\": \"float_normalized\",\n",
    "        \"srv_diff_host_rate\": \"float_normalized\",\n",
    "        \"dst_host_same_srv_rate\": \"float_normalized\",\n",
    "        \"dst_host_diff_srv_rate\": \"float_normalized\",\n",
    "        \"dst_host_same_src_port_rate\": \"float_normalized\",\n",
    "        \"dst_host_srv_diff_host_rate\": \"float_normalized\",\n",
    "        \"dst_host_serror_rate\": \"float_normalized\",\n",
    "        \"dst_host_srv_serror_rate\": \"float_normalized\",\n",
    "        \"dst_host_rerror_rate\": \"float_normalized\",\n",
    "        \"dst_host_srv_rerror_rate\": \"float_normalized\",\n",
    "    },\n",
    "    # Our utility will one-hot encode all categorical\n",
    "    # features and concat all features into a single\n",
    "    # vector (one vector per sample).\n",
    "    output_mode=\"concat\",\n",
    ")"
   ]
  },
  {
   "cell_type": "code",
   "execution_count": 157,
   "id": "0dcb39cd-e18e-47f6-90fc-ce272737e7a6",
   "metadata": {},
   "outputs": [
    {
     "name": "stdout",
     "output_type": "stream",
     "text": [
      "WARNING:tensorflow:From C:\\ProgramData\\anaconda3\\Lib\\site-packages\\keras\\src\\backend\\tensorflow\\core.py:204: The name tf.placeholder is deprecated. Please use tf.compat.v1.placeholder instead.\n",
      "\n"
     ]
    },
    {
     "name": "stderr",
     "output_type": "stream",
     "text": [
      "WARNING:tensorflow:From C:\\ProgramData\\anaconda3\\Lib\\site-packages\\keras\\src\\backend\\tensorflow\\core.py:204: The name tf.placeholder is deprecated. Please use tf.compat.v1.placeholder instead.\n",
      "\n"
     ]
    }
   ],
   "source": [
    "train_ds_with_no_labels = train_ds.map(lambda x, _: x)\n",
    "feature_space.adapt(train_ds_with_no_labels)"
   ]
  },
  {
   "cell_type": "code",
   "execution_count": 159,
   "id": "54738a86-9c22-405c-8f73-33821e256ebc",
   "metadata": {},
   "outputs": [
    {
     "name": "stdout",
     "output_type": "stream",
     "text": [
      "preprocessed_x.shape: (32, 66)\n",
      "preprocessed_x.dtype: <dtype: 'float32'>\n"
     ]
    }
   ],
   "source": [
    "for x, _ in train_ds.take(1):\n",
    "    preprocessed_x = feature_space(x)\n",
    "    print(\"preprocessed_x.shape:\", preprocessed_x.shape)\n",
    "    print(\"preprocessed_x.dtype:\", preprocessed_x.dtype)"
   ]
  },
  {
   "cell_type": "code",
   "execution_count": 161,
   "id": "be8e051c-1f60-41d7-8a31-33f0c95313a7",
   "metadata": {},
   "outputs": [],
   "source": [
    "preprocessed_train_ds = train_ds.map(\n",
    "    lambda x, y: (feature_space(x), y), num_parallel_calls=tf.data.AUTOTUNE\n",
    ")\n",
    "preprocessed_train_ds = preprocessed_train_ds.prefetch(tf.data.AUTOTUNE)\n",
    "\n",
    "preprocessed_val_ds = val_ds.map(\n",
    "    lambda x, y: (feature_space(x), y), num_parallel_calls=tf.data.AUTOTUNE\n",
    ")\n",
    "preprocessed_val_ds = preprocessed_val_ds.prefetch(tf.data.AUTOTUNE)\n",
    "\n",
    "preprocessed_test_ds = test_ds.map(\n",
    "    lambda x, y: (feature_space(x), y), num_parallel_calls=tf.data.AUTOTUNE\n",
    ")\n",
    "preprocessed_test_ds = preprocessed_val_ds.prefetch(tf.data.AUTOTUNE)"
   ]
  },
  {
   "cell_type": "code",
   "execution_count": 163,
   "id": "5d5c2365-8297-46df-8f51-e528e1e05a1f",
   "metadata": {},
   "outputs": [
    {
     "data": {
      "text/plain": [
       "<_PrefetchDataset element_spec=(TensorSpec(shape=(None, 66), dtype=tf.float32, name=None), TensorSpec(shape=(None, 5), dtype=tf.float64, name=None))>"
      ]
     },
     "execution_count": 163,
     "metadata": {},
     "output_type": "execute_result"
    }
   ],
   "source": [
    "preprocessed_train_ds"
   ]
  },
  {
   "cell_type": "markdown",
   "id": "520461f8-8f85-45f9-9a17-bf8f6655e2cd",
   "metadata": {},
   "source": [
    "## Build a training model"
   ]
  },
  {
   "cell_type": "markdown",
   "id": "0e0842df-3db3-4ed9-909a-0fa3824b36e0",
   "metadata": {},
   "source": [
    "- A training model that expects preprocessed features (one sample = one vector)\n",
    "- An inference model that expects raw features (one sample = dict of raw feature values)"
   ]
  },
  {
   "cell_type": "code",
   "execution_count": 167,
   "id": "97968bed-0043-43ea-9bef-6a2b9911245e",
   "metadata": {},
   "outputs": [],
   "source": [
    "dict_inputs = feature_space.get_inputs()\n",
    "encoded_features = feature_space.get_encoded_features()\n",
    "\n",
    "x = keras.layers.Dense(64, kernel_regularizer=regularizers.l2(0.001), activation=\"relu\")(encoded_features)\n",
    "x = keras.layers.Dropout(0.7)(x)\n",
    "x = keras.layers.Dense(32, kernel_regularizer=regularizers.l2(0.001), activation=\"relu\")(x)\n",
    "x = keras.layers.Dropout(0.6)(x)\n",
    "x = keras.layers.Dense(16, kernel_regularizer=regularizers.l2(0.001), activation=\"relu\")(x)\n",
    "predictions = keras.layers.Dense(5, activation=\"softmax\")(x) # 5 classes \n",
    "\n",
    "training_model = keras.Model(inputs=encoded_features, outputs=predictions)\n",
    "training_model.compile(\n",
    "    optimizer=keras.optimizers.Adam(0.001), loss=\"categorical_crossentropy\", metrics=[\"accuracy\"]\n",
    ")\n",
    "\n",
    "inference_model = keras.Model(inputs=dict_inputs, outputs=predictions)"
   ]
  },
  {
   "cell_type": "markdown",
   "id": "4e3a5780-b058-4f63-9680-3645b798ab01",
   "metadata": {},
   "source": [
    "#### Callbacks"
   ]
  },
  {
   "cell_type": "code",
   "execution_count": 170,
   "id": "c123492e-11de-45b4-8bc1-a3f24f25dc2d",
   "metadata": {},
   "outputs": [],
   "source": [
    "checkpoint = ModelCheckpoint('./checkpoints/best_model.keras', monitor='val_accuracy', verbose=1, save_best_only=True, mode='auto')"
   ]
  },
  {
   "cell_type": "code",
   "execution_count": 172,
   "id": "fe28c3d5-33de-466f-a9ec-e2022d73533d",
   "metadata": {},
   "outputs": [],
   "source": [
    "reduce_LR = ReduceLROnPlateau(monitor='val_loss',factor = 0.5, patience=2,cooldown=0, min_lr = 0.00001)"
   ]
  },
  {
   "cell_type": "code",
   "execution_count": 174,
   "id": "f395b3c2-1c3a-4835-9253-ddfeb22cf958",
   "metadata": {},
   "outputs": [],
   "source": [
    "tensorboard_callback = tf.keras.callbacks.TensorBoard(\n",
    "    log_dir='./logs',\n",
    "    histogram_freq=0, # freq in epochs\n",
    "    write_graph=True,\n",
    "    write_images=True, # whether to write model weights to see\n",
    "    write_steps_per_second=False,\n",
    "    update_freq='epoch',\n",
    "    profile_batch=0,\n",
    "    embeddings_freq=0,\n",
    "    embeddings_metadata=None\n",
    ")"
   ]
  },
  {
   "cell_type": "code",
   "execution_count": 176,
   "id": "e2ff3936-6924-468f-91f4-923d68a5c967",
   "metadata": {},
   "outputs": [],
   "source": [
    "#TB = TensorBoard(log_dir=log_dir, \n",
    "#                    histogram_freq=1, # freq in epochs\n",
    "#                    write_graph=True, # T/F for seeing the graph in TB\n",
    "#                    #write_grads=True, # writing the gradients\n",
    "#                    batch_size=batch_size, # size of batches for histogram\n",
    "#                    write_images=True # whether to write model weights to see\n",
    "#                )"
   ]
  },
  {
   "cell_type": "markdown",
   "id": "716c3fad-b391-4ad5-98a3-5b4672a752e8",
   "metadata": {},
   "source": [
    "## Train the model"
   ]
  },
  {
   "cell_type": "code",
   "execution_count": 179,
   "id": "35e995fa-323b-4d18-89dd-10495f47ea6d",
   "metadata": {},
   "outputs": [
    {
     "name": "stdout",
     "output_type": "stream",
     "text": [
      "Epoch 1/20\n",
      "\n",
      "Epoch 1: val_accuracy improved from -inf to 0.91300, saving model to ./checkpoints/best_model.keras\n",
      "3150/3150 - 6s - 2ms/step - accuracy: 0.7147 - loss: 1.3360 - val_accuracy: 0.9130 - val_loss: 0.6761 - learning_rate: 0.0010\n",
      "Epoch 2/20\n",
      "\n",
      "Epoch 2: val_accuracy did not improve from 0.91300\n",
      "3150/3150 - 5s - 1ms/step - accuracy: 0.7947 - loss: 1.1629 - val_accuracy: 0.8787 - val_loss: 0.7518 - learning_rate: 0.0010\n",
      "Epoch 3/20\n",
      "\n",
      "Epoch 3: val_accuracy improved from 0.91300 to 0.92474, saving model to ./checkpoints/best_model.keras\n",
      "3150/3150 - 5s - 1ms/step - accuracy: 0.8124 - loss: 0.8824 - val_accuracy: 0.9247 - val_loss: 0.5655 - learning_rate: 0.0010\n",
      "Epoch 4/20\n",
      "\n",
      "Epoch 4: val_accuracy did not improve from 0.92474\n",
      "3150/3150 - 4s - 1ms/step - accuracy: 0.8229 - loss: 0.8929 - val_accuracy: 0.8936 - val_loss: 0.8803 - learning_rate: 0.0010\n",
      "Epoch 5/20\n",
      "\n",
      "Epoch 5: val_accuracy improved from 0.92474 to 0.92546, saving model to ./checkpoints/best_model.keras\n",
      "3150/3150 - 4s - 1ms/step - accuracy: 0.8367 - loss: 0.8791 - val_accuracy: 0.9255 - val_loss: 0.4873 - learning_rate: 0.0010\n",
      "Epoch 6/20\n",
      "\n",
      "Epoch 6: val_accuracy did not improve from 0.92546\n",
      "3150/3150 - 5s - 1ms/step - accuracy: 0.8370 - loss: 0.8509 - val_accuracy: 0.8834 - val_loss: 0.9868 - learning_rate: 0.0010\n",
      "Epoch 7/20\n",
      "\n",
      "Epoch 7: val_accuracy did not improve from 0.92546\n",
      "3150/3150 - 5s - 1ms/step - accuracy: 0.8271 - loss: 0.8279 - val_accuracy: 0.8750 - val_loss: 0.9793 - learning_rate: 0.0010\n",
      "Epoch 8/20\n",
      "\n",
      "Epoch 8: val_accuracy did not improve from 0.92546\n",
      "3150/3150 - 5s - 1ms/step - accuracy: 0.8271 - loss: 0.6531 - val_accuracy: 0.9213 - val_loss: 0.8699 - learning_rate: 5.0000e-04\n",
      "Epoch 9/20\n",
      "\n",
      "Epoch 9: val_accuracy did not improve from 0.92546\n",
      "3150/3150 - 5s - 1ms/step - accuracy: 0.8468 - loss: 0.7075 - val_accuracy: 0.9093 - val_loss: 0.8474 - learning_rate: 5.0000e-04\n",
      "Epoch 10/20\n",
      "\n",
      "Epoch 10: val_accuracy did not improve from 0.92546\n",
      "3150/3150 - 5s - 1ms/step - accuracy: 0.8404 - loss: 0.6652 - val_accuracy: 0.9138 - val_loss: 0.8970 - learning_rate: 2.5000e-04\n",
      "Epoch 11/20\n",
      "\n",
      "Epoch 11: val_accuracy did not improve from 0.92546\n",
      "3150/3150 - 5s - 2ms/step - accuracy: 0.8505 - loss: 0.6700 - val_accuracy: 0.9187 - val_loss: 0.7981 - learning_rate: 2.5000e-04\n",
      "Epoch 12/20\n",
      "\n",
      "Epoch 12: val_accuracy did not improve from 0.92546\n",
      "3150/3150 - 5s - 1ms/step - accuracy: 0.8567 - loss: 0.6692 - val_accuracy: 0.9162 - val_loss: 0.8164 - learning_rate: 1.2500e-04\n",
      "Epoch 13/20\n",
      "\n",
      "Epoch 13: val_accuracy did not improve from 0.92546\n",
      "3150/3150 - 5s - 2ms/step - accuracy: 0.8542 - loss: 0.6494 - val_accuracy: 0.9162 - val_loss: 0.7597 - learning_rate: 1.2500e-04\n",
      "Epoch 14/20\n",
      "\n",
      "Epoch 14: val_accuracy did not improve from 0.92546\n",
      "3150/3150 - 5s - 1ms/step - accuracy: 0.8562 - loss: 0.7139 - val_accuracy: 0.9187 - val_loss: 0.7641 - learning_rate: 6.2500e-05\n",
      "Epoch 15/20\n",
      "\n",
      "Epoch 15: val_accuracy improved from 0.92546 to 0.92705, saving model to ./checkpoints/best_model.keras\n",
      "3150/3150 - 5s - 1ms/step - accuracy: 0.8601 - loss: 0.6075 - val_accuracy: 0.9270 - val_loss: 0.7618 - learning_rate: 6.2500e-05\n",
      "Epoch 16/20\n",
      "\n",
      "Epoch 16: val_accuracy did not improve from 0.92705\n",
      "3150/3150 - 5s - 2ms/step - accuracy: 0.8651 - loss: 0.6497 - val_accuracy: 0.9262 - val_loss: 0.7532 - learning_rate: 3.1250e-05\n",
      "Epoch 17/20\n",
      "\n",
      "Epoch 17: val_accuracy did not improve from 0.92705\n",
      "3150/3150 - 5s - 2ms/step - accuracy: 0.8648 - loss: 0.6153 - val_accuracy: 0.9229 - val_loss: 0.7580 - learning_rate: 3.1250e-05\n",
      "Epoch 18/20\n",
      "\n",
      "Epoch 18: val_accuracy did not improve from 0.92705\n",
      "3150/3150 - 5s - 2ms/step - accuracy: 0.8601 - loss: 0.6346 - val_accuracy: 0.9248 - val_loss: 0.7553 - learning_rate: 1.5625e-05\n",
      "Epoch 19/20\n",
      "\n",
      "Epoch 19: val_accuracy did not improve from 0.92705\n",
      "3150/3150 - 5s - 1ms/step - accuracy: 0.8625 - loss: 0.5829 - val_accuracy: 0.9253 - val_loss: 0.7567 - learning_rate: 1.5625e-05\n",
      "Epoch 20/20\n",
      "\n",
      "Epoch 20: val_accuracy did not improve from 0.92705\n",
      "3150/3150 - 5s - 1ms/step - accuracy: 0.8621 - loss: 0.6105 - val_accuracy: 0.9248 - val_loss: 0.7551 - learning_rate: 1.0000e-05\n"
     ]
    }
   ],
   "source": [
    "history = training_model.fit(\n",
    "    preprocessed_train_ds,\n",
    "    epochs=20,\n",
    "    validation_data=preprocessed_val_ds,\n",
    "    verbose=2,\n",
    "    class_weight = class_weight,\n",
    "    callbacks=[checkpoint,reduce_LR, tensorboard_callback])"
   ]
  },
  {
   "cell_type": "code",
   "execution_count": 181,
   "id": "a0fed1ab-1dbf-4fcf-9a0d-7df0fe3fc2e3",
   "metadata": {},
   "outputs": [],
   "source": [
    "def plot_train(hist):\n",
    "    h = hist.history\n",
    "    if 'accuracy' in h:\n",
    "        meas='accuracy'\n",
    "        loc='lower right'\n",
    "    else:\n",
    "        meas='loss'\n",
    "        loc='upper right'\n",
    "    plt.plot(hist.history[meas])\n",
    "    plt.plot(hist.history['val_'+meas])\n",
    "    plt.title('model '+meas)\n",
    "    plt.ylabel(meas)\n",
    "    plt.xlabel('epoch')\n",
    "    plt.legend(['train', 'validation'], loc=loc)"
   ]
  },
  {
   "cell_type": "code",
   "execution_count": 183,
   "id": "8739c734-6233-4743-864b-255ee66714b2",
   "metadata": {},
   "outputs": [
    {
     "data": {
      "image/png": "[encoded data removed]",
      "text/plain": [
       "<Figure size 640x480 with 1 Axes>"
      ]
     },
     "metadata": {},
     "output_type": "display_data"
    }
   ],
   "source": [
    "plot_train(history)"
   ]
  },
  {
   "cell_type": "markdown",
   "id": "eb3a5f1c-7754-4f2f-a70c-02906c0dc406",
   "metadata": {},
   "source": [
    "## Evalute the model"
   ]
  },
  {
   "cell_type": "code",
   "execution_count": 185,
   "id": "1c35a346-35e4-4f8a-9054-043bed862470",
   "metadata": {},
   "outputs": [
    {
     "name": "stdout",
     "output_type": "stream",
     "text": [
      "\u001b[1m394/394\u001b[0m \u001b[32m━━━━━━━━━━━━━━━━━━━━\u001b[0m\u001b[37m\u001b[0m \u001b[1m0s\u001b[0m 540us/step - accuracy: 0.9293 - loss: 0.6021\n",
      "Accuracy 0.9248233437538147\n"
     ]
    }
   ],
   "source": [
    "loss, accuracy = training_model.evaluate(preprocessed_test_ds)\n",
    "print(\"Accuracy\", accuracy)"
   ]
  },
  {
   "cell_type": "markdown",
   "id": "2f2e84c2-47e5-4270-92eb-6979971ea25a",
   "metadata": {},
   "source": [
    "## Loading the Best Model"
   ]
  },
  {
   "cell_type": "code",
   "execution_count": 188,
   "id": "08c8a3b1-a121-4cb9-bf1e-0af459dae619",
   "metadata": {},
   "outputs": [],
   "source": [
    "from tensorflow.keras.models import load_model\n",
    "# Load the entire model\n",
    "best_training_model = load_model('./checkpoints/best_model.keras')"
   ]
  },
  {
   "cell_type": "markdown",
   "id": "545c33a1-f066-4013-9995-bb825fdf92a4",
   "metadata": {},
   "source": [
    "## Inference with the loaded model"
   ]
  },
  {
   "cell_type": "code",
   "execution_count": 250,
   "id": "31dc6cc1-8b6a-4958-95d5-a6bfa070769f",
   "metadata": {},
   "outputs": [],
   "source": [
    "sample={\n",
    "    \"flag\": 4,\n",
    "    \"land\": 0,\n",
    "    \"logged_in\": 0,\n",
    "    \"root_shell\": 0,\n",
    "    \"su_attempted\": 0,\n",
    "    \"is_host_login\": 0,\n",
    "    \"is_guest_login\": 0,\n",
    "    \"protocol_type\": \"icmp\",\n",
    "    \"duration\": 0,\n",
    "    \"service\": 25,\n",
    "    \"src_bytes\": 0,\n",
    "    \"dst_bytes\": 0,\n",
    "    \"wrong_fragment\": 0,\n",
    "    \"urgent\": 0,\n",
    "    \"hot\": 0,\n",
    "    \"num_failed_logins\": 0,\n",
    "    \"num_compromised\": 0,\n",
    "    \"num_root\": 0,\n",
    "    \"num_file_creations\": 0,\n",
    "    \"num_shells\": 0,\n",
    "    \"num_access_files\": 0,\n",
    "    \"count\": 110,\n",
    "    \"srv_count\": 110,\n",
    "    \"dst_host_count\": 255,\n",
    "    \"dst_host_srv_count\": 255,\n",
    "    \"serror_rate\": 1,\n",
    "    \"srv_serror_rate\": 1,\n",
    "    \"rerror_rate\": 0,\n",
    "    \"srv_rerror_rate\": 0,\n",
    "    \"same_srv_rate\": 1,\n",
    "    \"diff_srv_rate\": 0,\n",
    "    \"srv_diff_host_rate\": 0,\n",
    "    \"dst_host_same_srv_rate\": 1,\n",
    "    \"dst_host_diff_srv_rate\": 0,\n",
    "    \"dst_host_same_src_port_rate\": 0,\n",
    "    \"dst_host_srv_diff_host_rate\": 0,\n",
    "    \"dst_host_serror_rate\": 0.65,\n",
    "    \"dst_host_srv_serror_rate\": 0.65,\n",
    "    \"dst_host_rerror_rate\": 0.32,\n",
    "    \"dst_host_srv_rerror_rate\": 0.32,\n",
    "}"
   ]
  },
  {
   "cell_type": "code",
   "execution_count": 252,
   "id": "551a224e-9ec2-4810-b3a2-500d476deeeb",
   "metadata": {},
   "outputs": [],
   "source": [
    "encoded_sample = feature_space(dict(sample))\n",
    "encoded_sample = tf.expand_dims(encoded_sample, axis=0) "
   ]
  },
  {
   "cell_type": "code",
   "execution_count": 254,
   "id": "d6d5a680-c97f-44c9-8f97-ca04dbfc71bc",
   "metadata": {},
   "outputs": [
    {
     "name": "stdout",
     "output_type": "stream",
     "text": [
      "preprocessed_x.shape: (1, 66)\n"
     ]
    }
   ],
   "source": [
    "print(\"preprocessed_x.shape:\", encoded_sample.shape)"
   ]
  },
  {
   "cell_type": "code",
   "execution_count": 256,
   "id": "5441b8a5-592f-451f-a661-2c2bc016c972",
   "metadata": {},
   "outputs": [
    {
     "name": "stdout",
     "output_type": "stream",
     "text": [
      "\u001b[1m1/1\u001b[0m \u001b[32m━━━━━━━━━━━━━━━━━━━━\u001b[0m\u001b[37m\u001b[0m \u001b[1m0s\u001b[0m 25ms/step\n",
      "['dos']\n"
     ]
    }
   ],
   "source": [
    "predictions = best_training_model.predict(encoded_sample)\n",
    "predicted_class_indices = np.argmax(predictions, axis=1)\n",
    "class_mapping = {0: 'normal', 1: 'dos', 2: 'probe', 3: 'r2l', 4: 'u2r'}\n",
    "predicted_classes = [class_mapping[i] for i in predicted_class_indices]\n",
    "print(predicted_classes)"
   ]
  },
  {
   "cell_type": "code",
   "execution_count": 258,
   "id": "6111e587-1065-447d-88d9-c1b2f9297ff4",
   "metadata": {},
   "outputs": [],
   "source": [
    "#if using inference model\n",
    "#input_dict = {name: tf.convert_to_tensor([value]) for name, value in sample.items()}\n",
    "#predictions = inference_model.predict(input_dict)\n",
    "#predicted_class_indices = np.argmax(predictions, axis=1)\n",
    "#class_mapping = {0: 'normal', 1: 'dos', 2: 'probe', 3: 'r2l', 4: 'u2r'}\n",
    "#predicted_classes = [class_mapping[i] for i in predicted_class_indices]\n",
    "#print(predicted_classes)"
   ]
  },
  {
   "cell_type": "code",
   "execution_count": null,
   "id": "5f309c04-c13b-47db-a1df-fb9f782b2a84",
   "metadata": {},
   "outputs": [],
   "source": [
    "#view tensorboard\n",
    "#open anaconda prompt\n",
    "#cd to folder containing log folder\n",
    "#tensorboard --logdir=logs/fit"
   ]
  }
 ],
 "metadata": {
  "kernelspec": {
   "display_name": "Python 3 (ipykernel)",
   "language": "python",
   "name": "python3"
  },
  "language_info": {
   "codemirror_mode": {
    "name": "ipython",
    "version": 3
   },
   "file_extension": ".py",
   "mimetype": "text/x-python",
   "name": "python",
   "nbconvert_exporter": "python",
   "pygments_lexer": "ipython3",
   "version": "3.12.4"
  }
 },
 "nbformat": 4,
 "nbformat_minor": 5
}
